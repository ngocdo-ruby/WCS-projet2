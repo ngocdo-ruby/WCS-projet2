{
 "cells": [
  {
   "cell_type": "code",
   "execution_count": 1,
   "metadata": {},
   "outputs": [],
   "source": [
    "import pandas as pd\n",
    "import seaborn as sns\n",
    "import matplotlib.pyplot as plt\n",
    "import pandas as pd\n",
    "import plotly.express as px"
   ]
  },
  {
   "cell_type": "code",
   "execution_count": 3,
   "metadata": {},
   "outputs": [
    {
     "data": {
      "text/html": [
       "<div>\n",
       "<style scoped>\n",
       "    .dataframe tbody tr th:only-of-type {\n",
       "        vertical-align: middle;\n",
       "    }\n",
       "\n",
       "    .dataframe tbody tr th {\n",
       "        vertical-align: top;\n",
       "    }\n",
       "\n",
       "    .dataframe thead th {\n",
       "        text-align: right;\n",
       "    }\n",
       "</style>\n",
       "<table border=\"1\" class=\"dataframe\">\n",
       "  <thead>\n",
       "    <tr style=\"text-align: right;\">\n",
       "      <th></th>\n",
       "      <th>imdb_id</th>\n",
       "      <th>title</th>\n",
       "      <th>startYear</th>\n",
       "      <th>duration</th>\n",
       "      <th>genres</th>\n",
       "      <th>averageRating</th>\n",
       "      <th>numVotes</th>\n",
       "      <th>titre</th>\n",
       "      <th>directors</th>\n",
       "      <th>writers</th>\n",
       "      <th>directors_names</th>\n",
       "      <th>writers_names</th>\n",
       "      <th>n_actor</th>\n",
       "      <th>n_actor_joined</th>\n",
       "      <th>actors_names</th>\n",
       "      <th>budget</th>\n",
       "    </tr>\n",
       "  </thead>\n",
       "  <tbody>\n",
       "    <tr>\n",
       "      <th>0</th>\n",
       "      <td>tt0035423</td>\n",
       "      <td>Kate &amp; Leopold</td>\n",
       "      <td>2001</td>\n",
       "      <td>118</td>\n",
       "      <td>Comedy,Fantasy,Romance</td>\n",
       "      <td>6.4</td>\n",
       "      <td>90639.0</td>\n",
       "      <td>Kate et Léopold</td>\n",
       "      <td>nm0003506</td>\n",
       "      <td>nm0737216,nm0003506</td>\n",
       "      <td>James Mangold</td>\n",
       "      <td>Steven Rogers, James Mangold</td>\n",
       "      <td>[nm0000212, nm0413168, nm0000630, nm0005227, n...</td>\n",
       "      <td>nm0000212,nm0413168,nm0000630,nm0005227,nm0005...</td>\n",
       "      <td>Meg Ryan, Hugh Jackman, Liev Schreiber, Brecki...</td>\n",
       "      <td>48000000.0</td>\n",
       "    </tr>\n",
       "    <tr>\n",
       "      <th>1</th>\n",
       "      <td>tt0069049</td>\n",
       "      <td>The Other Side of the Wind</td>\n",
       "      <td>2018</td>\n",
       "      <td>122</td>\n",
       "      <td>Drama</td>\n",
       "      <td>6.7</td>\n",
       "      <td>8188.0</td>\n",
       "      <td>The Other Side of the Wind</td>\n",
       "      <td>nm0000080</td>\n",
       "      <td>nm0000080,nm0462648</td>\n",
       "      <td>Orson Welles</td>\n",
       "      <td>Orson Welles, Oja Kodar</td>\n",
       "      <td>[nm0001379, nm0462648, nm0000953, nm0001782, n...</td>\n",
       "      <td>nm0001379,nm0462648,nm0000953,nm0001782,nm0287...</td>\n",
       "      <td>John Huston, Oja Kodar, Peter Bogdanovich, Sus...</td>\n",
       "      <td>12000000.0</td>\n",
       "    </tr>\n",
       "    <tr>\n",
       "      <th>2</th>\n",
       "      <td>tt0078813</td>\n",
       "      <td>The Miser</td>\n",
       "      <td>1980</td>\n",
       "      <td>125</td>\n",
       "      <td>Comedy</td>\n",
       "      <td>6.6</td>\n",
       "      <td>5319.0</td>\n",
       "      <td>L'avare</td>\n",
       "      <td>nm0000086,nm0320833</td>\n",
       "      <td>nm0596942,nm0000086,nm0320833</td>\n",
       "      <td>Louis de Funès, Jean Girault</td>\n",
       "      <td>Molière, Louis de Funès, Jean Girault</td>\n",
       "      <td>[nm0000086, nm0127682, nm0069191, nm0041620, n...</td>\n",
       "      <td>nm0000086,nm0127682,nm0069191,nm0041620,nm0343...</td>\n",
       "      <td>Louis de Funès, Franck Cabot-David, Hervé Bell...</td>\n",
       "      <td>0.0</td>\n",
       "    </tr>\n",
       "    <tr>\n",
       "      <th>3</th>\n",
       "      <td>tt0078935</td>\n",
       "      <td>Cannibal Holocaust</td>\n",
       "      <td>1980</td>\n",
       "      <td>95</td>\n",
       "      <td>Adventure,Horror</td>\n",
       "      <td>5.8</td>\n",
       "      <td>63125.0</td>\n",
       "      <td>L'enfer des cannibales</td>\n",
       "      <td>nm0219959</td>\n",
       "      <td>nm0166405,nm0824216</td>\n",
       "      <td>Ruggero Deodato</td>\n",
       "      <td>Gianfranco Clerici, Giorgio Stegani</td>\n",
       "      <td>[nm0449404, nm0161889, nm0685194, nm0053230, n...</td>\n",
       "      <td>nm0449404,nm0161889,nm0685194,nm0053230,nm0059...</td>\n",
       "      <td>Robert Kerman, Francesca Ciardi, Perry Pirkane...</td>\n",
       "      <td>100000.0</td>\n",
       "    </tr>\n",
       "    <tr>\n",
       "      <th>4</th>\n",
       "      <td>tt0079285</td>\n",
       "      <td>Saturn 3</td>\n",
       "      <td>1980</td>\n",
       "      <td>88</td>\n",
       "      <td>Adventure,Horror,Sci-Fi</td>\n",
       "      <td>5.1</td>\n",
       "      <td>10808.0</td>\n",
       "      <td>Saturne 3</td>\n",
       "      <td>nm0002045,nm0058045</td>\n",
       "      <td>nm0025007,nm0058045</td>\n",
       "      <td>Stanley Donen, John Barry</td>\n",
       "      <td>Martin Amis, John Barry</td>\n",
       "      <td>[nm0000396, nm0000018, nm0000172, nm0084042, n...</td>\n",
       "      <td>nm0000396,nm0000018,nm0000172,nm0084042,nm0234...</td>\n",
       "      <td>Farrah Fawcett, Kirk Douglas, Harvey Keitel, E...</td>\n",
       "      <td>0.0</td>\n",
       "    </tr>\n",
       "    <tr>\n",
       "      <th>...</th>\n",
       "      <td>...</td>\n",
       "      <td>...</td>\n",
       "      <td>...</td>\n",
       "      <td>...</td>\n",
       "      <td>...</td>\n",
       "      <td>...</td>\n",
       "      <td>...</td>\n",
       "      <td>...</td>\n",
       "      <td>...</td>\n",
       "      <td>...</td>\n",
       "      <td>...</td>\n",
       "      <td>...</td>\n",
       "      <td>...</td>\n",
       "      <td>...</td>\n",
       "      <td>...</td>\n",
       "      <td>...</td>\n",
       "    </tr>\n",
       "    <tr>\n",
       "      <th>11421</th>\n",
       "      <td>tt9894470</td>\n",
       "      <td>VFW</td>\n",
       "      <td>2019</td>\n",
       "      <td>92</td>\n",
       "      <td>Action,Crime,Horror</td>\n",
       "      <td>6.1</td>\n",
       "      <td>9835.0</td>\n",
       "      <td>VFW</td>\n",
       "      <td>nm3976308</td>\n",
       "      <td>nm2244274,nm2100227</td>\n",
       "      <td>Joe Begos</td>\n",
       "      <td>Max Brallier, Matthew McArdle</td>\n",
       "      <td>[nm0002332, nm0006669, nm0004365, nm0184392, n...</td>\n",
       "      <td>nm0002332,nm0006669,nm0004365,nm0184392,nm0446...</td>\n",
       "      <td>Stephen Lang, William Sadler, Fred Williamson,...</td>\n",
       "      <td>0.0</td>\n",
       "    </tr>\n",
       "    <tr>\n",
       "      <th>11422</th>\n",
       "      <td>tt9898858</td>\n",
       "      <td>Coffee &amp; Kareem</td>\n",
       "      <td>2020</td>\n",
       "      <td>88</td>\n",
       "      <td>Action,Comedy,Crime</td>\n",
       "      <td>5.2</td>\n",
       "      <td>14770.0</td>\n",
       "      <td>Coffee et Kareem</td>\n",
       "      <td>nm0236226</td>\n",
       "      <td>nm3377973</td>\n",
       "      <td>Michael Dowse</td>\n",
       "      <td>Shane Mack</td>\n",
       "      <td>[nm1159180, nm0378245, nm10067359, nm2365811, ...</td>\n",
       "      <td>nm1159180,nm0378245,nm10067359,nm2365811,nm049...</td>\n",
       "      <td>Ed Helms, Taraji P. Henson, Terrence Little Ga...</td>\n",
       "      <td>0.0</td>\n",
       "    </tr>\n",
       "    <tr>\n",
       "      <th>11423</th>\n",
       "      <td>tt9900782</td>\n",
       "      <td>Kaithi</td>\n",
       "      <td>2019</td>\n",
       "      <td>145</td>\n",
       "      <td>Action,Crime,Drama</td>\n",
       "      <td>8.4</td>\n",
       "      <td>44846.0</td>\n",
       "      <td>Kaithi</td>\n",
       "      <td>nm7992231</td>\n",
       "      <td>nm7992231,nm7807469,nm8325456</td>\n",
       "      <td>Lokesh Kanagaraj</td>\n",
       "      <td>Lokesh Kanagaraj, Pon Parthiban, Sanjeev Tiwari</td>\n",
       "      <td>[nm1912683, nm1230844, nm10183124, nm6998719, ...</td>\n",
       "      <td>nm1912683,nm1230844,nm10183124,nm6998719,nm664...</td>\n",
       "      <td>Karthi, Narain, Arjun Das, George Maryan, Hari...</td>\n",
       "      <td>0.0</td>\n",
       "    </tr>\n",
       "    <tr>\n",
       "      <th>11424</th>\n",
       "      <td>tt9907782</td>\n",
       "      <td>The Cursed</td>\n",
       "      <td>2021</td>\n",
       "      <td>111</td>\n",
       "      <td>Fantasy,Horror,Mystery</td>\n",
       "      <td>6.2</td>\n",
       "      <td>18989.0</td>\n",
       "      <td>Les damnés</td>\n",
       "      <td>nm1193346</td>\n",
       "      <td>nm1193346</td>\n",
       "      <td>Sean Ellis</td>\n",
       "      <td>Sean Ellis</td>\n",
       "      <td>[nm2933542, nm0717709, nm0677944, nm3646923, n...</td>\n",
       "      <td>nm2933542,nm0717709,nm0677944,nm3646923,nm0079...</td>\n",
       "      <td>Boyd Holbrook, Kelly Reilly, Alistair Petrie, ...</td>\n",
       "      <td>0.0</td>\n",
       "    </tr>\n",
       "    <tr>\n",
       "      <th>11425</th>\n",
       "      <td>tt9916362</td>\n",
       "      <td>Coven</td>\n",
       "      <td>2020</td>\n",
       "      <td>92</td>\n",
       "      <td>Drama,History</td>\n",
       "      <td>6.4</td>\n",
       "      <td>5942.0</td>\n",
       "      <td>Les sorcières d'Akelarre</td>\n",
       "      <td>nm1893148</td>\n",
       "      <td>nm1893148,nm3471432</td>\n",
       "      <td>Pablo Agüero</td>\n",
       "      <td>Pablo Agüero, Katell Guillou</td>\n",
       "      <td>[nm3766704, nm0107165, nm0266723, nm10678594, ...</td>\n",
       "      <td>nm3766704,nm0107165,nm0266723,nm10678594,nm106...</td>\n",
       "      <td>Amaia Aberasturi, Alex Brendemühl, Daniel Fane...</td>\n",
       "      <td>0.0</td>\n",
       "    </tr>\n",
       "  </tbody>\n",
       "</table>\n",
       "<p>11426 rows × 16 columns</p>\n",
       "</div>"
      ],
      "text/plain": [
       "         imdb_id                       title startYear duration  \\\n",
       "0      tt0035423              Kate & Leopold      2001      118   \n",
       "1      tt0069049  The Other Side of the Wind      2018      122   \n",
       "2      tt0078813                   The Miser      1980      125   \n",
       "3      tt0078935          Cannibal Holocaust      1980       95   \n",
       "4      tt0079285                    Saturn 3      1980       88   \n",
       "...          ...                         ...       ...      ...   \n",
       "11421  tt9894470                         VFW      2019       92   \n",
       "11422  tt9898858             Coffee & Kareem      2020       88   \n",
       "11423  tt9900782                      Kaithi      2019      145   \n",
       "11424  tt9907782                  The Cursed      2021      111   \n",
       "11425  tt9916362                       Coven      2020       92   \n",
       "\n",
       "                        genres  averageRating  numVotes  \\\n",
       "0       Comedy,Fantasy,Romance            6.4   90639.0   \n",
       "1                        Drama            6.7    8188.0   \n",
       "2                       Comedy            6.6    5319.0   \n",
       "3             Adventure,Horror            5.8   63125.0   \n",
       "4      Adventure,Horror,Sci-Fi            5.1   10808.0   \n",
       "...                        ...            ...       ...   \n",
       "11421      Action,Crime,Horror            6.1    9835.0   \n",
       "11422      Action,Comedy,Crime            5.2   14770.0   \n",
       "11423       Action,Crime,Drama            8.4   44846.0   \n",
       "11424   Fantasy,Horror,Mystery            6.2   18989.0   \n",
       "11425            Drama,History            6.4    5942.0   \n",
       "\n",
       "                            titre            directors  \\\n",
       "0                 Kate et Léopold            nm0003506   \n",
       "1      The Other Side of the Wind            nm0000080   \n",
       "2                         L'avare  nm0000086,nm0320833   \n",
       "3          L'enfer des cannibales            nm0219959   \n",
       "4                       Saturne 3  nm0002045,nm0058045   \n",
       "...                           ...                  ...   \n",
       "11421                         VFW            nm3976308   \n",
       "11422            Coffee et Kareem            nm0236226   \n",
       "11423                      Kaithi            nm7992231   \n",
       "11424                  Les damnés            nm1193346   \n",
       "11425    Les sorcières d'Akelarre            nm1893148   \n",
       "\n",
       "                             writers               directors_names  \\\n",
       "0                nm0737216,nm0003506                 James Mangold   \n",
       "1                nm0000080,nm0462648                  Orson Welles   \n",
       "2      nm0596942,nm0000086,nm0320833  Louis de Funès, Jean Girault   \n",
       "3                nm0166405,nm0824216               Ruggero Deodato   \n",
       "4                nm0025007,nm0058045     Stanley Donen, John Barry   \n",
       "...                              ...                           ...   \n",
       "11421            nm2244274,nm2100227                     Joe Begos   \n",
       "11422                      nm3377973                 Michael Dowse   \n",
       "11423  nm7992231,nm7807469,nm8325456              Lokesh Kanagaraj   \n",
       "11424                      nm1193346                    Sean Ellis   \n",
       "11425            nm1893148,nm3471432                  Pablo Agüero   \n",
       "\n",
       "                                         writers_names  \\\n",
       "0                         Steven Rogers, James Mangold   \n",
       "1                              Orson Welles, Oja Kodar   \n",
       "2                Molière, Louis de Funès, Jean Girault   \n",
       "3                  Gianfranco Clerici, Giorgio Stegani   \n",
       "4                              Martin Amis, John Barry   \n",
       "...                                                ...   \n",
       "11421                    Max Brallier, Matthew McArdle   \n",
       "11422                                       Shane Mack   \n",
       "11423  Lokesh Kanagaraj, Pon Parthiban, Sanjeev Tiwari   \n",
       "11424                                       Sean Ellis   \n",
       "11425                     Pablo Agüero, Katell Guillou   \n",
       "\n",
       "                                                 n_actor  \\\n",
       "0      [nm0000212, nm0413168, nm0000630, nm0005227, n...   \n",
       "1      [nm0001379, nm0462648, nm0000953, nm0001782, n...   \n",
       "2      [nm0000086, nm0127682, nm0069191, nm0041620, n...   \n",
       "3      [nm0449404, nm0161889, nm0685194, nm0053230, n...   \n",
       "4      [nm0000396, nm0000018, nm0000172, nm0084042, n...   \n",
       "...                                                  ...   \n",
       "11421  [nm0002332, nm0006669, nm0004365, nm0184392, n...   \n",
       "11422  [nm1159180, nm0378245, nm10067359, nm2365811, ...   \n",
       "11423  [nm1912683, nm1230844, nm10183124, nm6998719, ...   \n",
       "11424  [nm2933542, nm0717709, nm0677944, nm3646923, n...   \n",
       "11425  [nm3766704, nm0107165, nm0266723, nm10678594, ...   \n",
       "\n",
       "                                          n_actor_joined  \\\n",
       "0      nm0000212,nm0413168,nm0000630,nm0005227,nm0005...   \n",
       "1      nm0001379,nm0462648,nm0000953,nm0001782,nm0287...   \n",
       "2      nm0000086,nm0127682,nm0069191,nm0041620,nm0343...   \n",
       "3      nm0449404,nm0161889,nm0685194,nm0053230,nm0059...   \n",
       "4      nm0000396,nm0000018,nm0000172,nm0084042,nm0234...   \n",
       "...                                                  ...   \n",
       "11421  nm0002332,nm0006669,nm0004365,nm0184392,nm0446...   \n",
       "11422  nm1159180,nm0378245,nm10067359,nm2365811,nm049...   \n",
       "11423  nm1912683,nm1230844,nm10183124,nm6998719,nm664...   \n",
       "11424  nm2933542,nm0717709,nm0677944,nm3646923,nm0079...   \n",
       "11425  nm3766704,nm0107165,nm0266723,nm10678594,nm106...   \n",
       "\n",
       "                                            actors_names      budget  \n",
       "0      Meg Ryan, Hugh Jackman, Liev Schreiber, Brecki...  48000000.0  \n",
       "1      John Huston, Oja Kodar, Peter Bogdanovich, Sus...  12000000.0  \n",
       "2      Louis de Funès, Franck Cabot-David, Hervé Bell...         0.0  \n",
       "3      Robert Kerman, Francesca Ciardi, Perry Pirkane...    100000.0  \n",
       "4      Farrah Fawcett, Kirk Douglas, Harvey Keitel, E...         0.0  \n",
       "...                                                  ...         ...  \n",
       "11421  Stephen Lang, William Sadler, Fred Williamson,...         0.0  \n",
       "11422  Ed Helms, Taraji P. Henson, Terrence Little Ga...         0.0  \n",
       "11423  Karthi, Narain, Arjun Das, George Maryan, Hari...         0.0  \n",
       "11424  Boyd Holbrook, Kelly Reilly, Alistair Petrie, ...         0.0  \n",
       "11425  Amaia Aberasturi, Alex Brendemühl, Daniel Fane...         0.0  \n",
       "\n",
       "[11426 rows x 16 columns]"
      ]
     },
     "execution_count": 3,
     "metadata": {},
     "output_type": "execute_result"
    }
   ],
   "source": [
    "df = pd.read_parquet('imdb_28112024.parquet')\n",
    "df"
   ]
  },
  {
   "cell_type": "code",
   "execution_count": 4,
   "metadata": {},
   "outputs": [
    {
     "data": {
      "application/vnd.plotly.v1+json": {
       "config": {
        "plotlyServerURL": "https://plot.ly"
       },
       "data": [
        {
         "alignmentgroup": "True",
         "hovertemplate": "startYear=%{x}<br>numVotes_moyenne=%{marker.color}<extra></extra>",
         "legendgroup": "",
         "marker": {
          "color": [
           62554.62,
           41294.37,
           60558.84,
           52877.77,
           70550.23,
           54417.6,
           51431.17,
           58572.43,
           56771.93,
           58509.92,
           67293.79,
           59257.47,
           64771.36,
           73982.77,
           97642.68,
           88399.57,
           63399.46,
           97212.07,
           90955.68,
           119499.77,
           97970.53,
           109236.76,
           98659.56,
           111323.49,
           118290.38,
           99858.38,
           101136.13,
           103683.63,
           110674.08,
           102356.22,
           113406.55,
           111477.13,
           106739.47,
           106742.51,
           102928.37,
           82857.56,
           85618.96,
           76338.34,
           63615.66,
           69331.38,
           35860.87,
           52819.7,
           49543.66,
           46650.52,
           55128.28
          ],
          "coloraxis": "coloraxis",
          "pattern": {
           "shape": ""
          }
         },
         "name": "",
         "offsetgroup": "",
         "orientation": "v",
         "showlegend": false,
         "textposition": "auto",
         "type": "bar",
         "x": [
          "1980",
          "1981",
          "1982",
          "1983",
          "1984",
          "1985",
          "1986",
          "1987",
          "1988",
          "1989",
          "1990",
          "1991",
          "1992",
          "1993",
          "1994",
          "1995",
          "1996",
          "1997",
          "1998",
          "1999",
          "2000",
          "2001",
          "2002",
          "2003",
          "2004",
          "2005",
          "2006",
          "2007",
          "2008",
          "2009",
          "2010",
          "2011",
          "2012",
          "2013",
          "2014",
          "2015",
          "2016",
          "2017",
          "2018",
          "2019",
          "2020",
          "2021",
          "2022",
          "2023",
          "2024"
         ],
         "xaxis": "x",
         "y": [
          62554.62,
          41294.37,
          60558.84,
          52877.77,
          70550.23,
          54417.6,
          51431.17,
          58572.43,
          56771.93,
          58509.92,
          67293.79,
          59257.47,
          64771.36,
          73982.77,
          97642.68,
          88399.57,
          63399.46,
          97212.07,
          90955.68,
          119499.77,
          97970.53,
          109236.76,
          98659.56,
          111323.49,
          118290.38,
          99858.38,
          101136.13,
          103683.63,
          110674.08,
          102356.22,
          113406.55,
          111477.13,
          106739.47,
          106742.51,
          102928.37,
          82857.56,
          85618.96,
          76338.34,
          63615.66,
          69331.38,
          35860.87,
          52819.7,
          49543.66,
          46650.52,
          55128.28
         ],
         "yaxis": "y"
        }
       ],
       "layout": {
        "barmode": "relative",
        "coloraxis": {
         "colorbar": {
          "title": {
           "text": "numVotes_moyenne"
          }
         },
         "colorscale": [
          [
           0,
           "rgb(247,251,255)"
          ],
          [
           0.125,
           "rgb(222,235,247)"
          ],
          [
           0.25,
           "rgb(198,219,239)"
          ],
          [
           0.375,
           "rgb(158,202,225)"
          ],
          [
           0.5,
           "rgb(107,174,214)"
          ],
          [
           0.625,
           "rgb(66,146,198)"
          ],
          [
           0.75,
           "rgb(33,113,181)"
          ],
          [
           0.875,
           "rgb(8,81,156)"
          ],
          [
           1,
           "rgb(8,48,107)"
          ]
         ]
        },
        "legend": {
         "tracegroupgap": 0
        },
        "margin": {
         "t": 60
        },
        "template": {
         "data": {
          "bar": [
           {
            "error_x": {
             "color": "#2a3f5f"
            },
            "error_y": {
             "color": "#2a3f5f"
            },
            "marker": {
             "line": {
              "color": "#E5ECF6",
              "width": 0.5
             },
             "pattern": {
              "fillmode": "overlay",
              "size": 10,
              "solidity": 0.2
             }
            },
            "type": "bar"
           }
          ],
          "barpolar": [
           {
            "marker": {
             "line": {
              "color": "#E5ECF6",
              "width": 0.5
             },
             "pattern": {
              "fillmode": "overlay",
              "size": 10,
              "solidity": 0.2
             }
            },
            "type": "barpolar"
           }
          ],
          "carpet": [
           {
            "aaxis": {
             "endlinecolor": "#2a3f5f",
             "gridcolor": "white",
             "linecolor": "white",
             "minorgridcolor": "white",
             "startlinecolor": "#2a3f5f"
            },
            "baxis": {
             "endlinecolor": "#2a3f5f",
             "gridcolor": "white",
             "linecolor": "white",
             "minorgridcolor": "white",
             "startlinecolor": "#2a3f5f"
            },
            "type": "carpet"
           }
          ],
          "choropleth": [
           {
            "colorbar": {
             "outlinewidth": 0,
             "ticks": ""
            },
            "type": "choropleth"
           }
          ],
          "contour": [
           {
            "colorbar": {
             "outlinewidth": 0,
             "ticks": ""
            },
            "colorscale": [
             [
              0,
              "#0d0887"
             ],
             [
              0.1111111111111111,
              "#46039f"
             ],
             [
              0.2222222222222222,
              "#7201a8"
             ],
             [
              0.3333333333333333,
              "#9c179e"
             ],
             [
              0.4444444444444444,
              "#bd3786"
             ],
             [
              0.5555555555555556,
              "#d8576b"
             ],
             [
              0.6666666666666666,
              "#ed7953"
             ],
             [
              0.7777777777777778,
              "#fb9f3a"
             ],
             [
              0.8888888888888888,
              "#fdca26"
             ],
             [
              1,
              "#f0f921"
             ]
            ],
            "type": "contour"
           }
          ],
          "contourcarpet": [
           {
            "colorbar": {
             "outlinewidth": 0,
             "ticks": ""
            },
            "type": "contourcarpet"
           }
          ],
          "heatmap": [
           {
            "colorbar": {
             "outlinewidth": 0,
             "ticks": ""
            },
            "colorscale": [
             [
              0,
              "#0d0887"
             ],
             [
              0.1111111111111111,
              "#46039f"
             ],
             [
              0.2222222222222222,
              "#7201a8"
             ],
             [
              0.3333333333333333,
              "#9c179e"
             ],
             [
              0.4444444444444444,
              "#bd3786"
             ],
             [
              0.5555555555555556,
              "#d8576b"
             ],
             [
              0.6666666666666666,
              "#ed7953"
             ],
             [
              0.7777777777777778,
              "#fb9f3a"
             ],
             [
              0.8888888888888888,
              "#fdca26"
             ],
             [
              1,
              "#f0f921"
             ]
            ],
            "type": "heatmap"
           }
          ],
          "heatmapgl": [
           {
            "colorbar": {
             "outlinewidth": 0,
             "ticks": ""
            },
            "colorscale": [
             [
              0,
              "#0d0887"
             ],
             [
              0.1111111111111111,
              "#46039f"
             ],
             [
              0.2222222222222222,
              "#7201a8"
             ],
             [
              0.3333333333333333,
              "#9c179e"
             ],
             [
              0.4444444444444444,
              "#bd3786"
             ],
             [
              0.5555555555555556,
              "#d8576b"
             ],
             [
              0.6666666666666666,
              "#ed7953"
             ],
             [
              0.7777777777777778,
              "#fb9f3a"
             ],
             [
              0.8888888888888888,
              "#fdca26"
             ],
             [
              1,
              "#f0f921"
             ]
            ],
            "type": "heatmapgl"
           }
          ],
          "histogram": [
           {
            "marker": {
             "pattern": {
              "fillmode": "overlay",
              "size": 10,
              "solidity": 0.2
             }
            },
            "type": "histogram"
           }
          ],
          "histogram2d": [
           {
            "colorbar": {
             "outlinewidth": 0,
             "ticks": ""
            },
            "colorscale": [
             [
              0,
              "#0d0887"
             ],
             [
              0.1111111111111111,
              "#46039f"
             ],
             [
              0.2222222222222222,
              "#7201a8"
             ],
             [
              0.3333333333333333,
              "#9c179e"
             ],
             [
              0.4444444444444444,
              "#bd3786"
             ],
             [
              0.5555555555555556,
              "#d8576b"
             ],
             [
              0.6666666666666666,
              "#ed7953"
             ],
             [
              0.7777777777777778,
              "#fb9f3a"
             ],
             [
              0.8888888888888888,
              "#fdca26"
             ],
             [
              1,
              "#f0f921"
             ]
            ],
            "type": "histogram2d"
           }
          ],
          "histogram2dcontour": [
           {
            "colorbar": {
             "outlinewidth": 0,
             "ticks": ""
            },
            "colorscale": [
             [
              0,
              "#0d0887"
             ],
             [
              0.1111111111111111,
              "#46039f"
             ],
             [
              0.2222222222222222,
              "#7201a8"
             ],
             [
              0.3333333333333333,
              "#9c179e"
             ],
             [
              0.4444444444444444,
              "#bd3786"
             ],
             [
              0.5555555555555556,
              "#d8576b"
             ],
             [
              0.6666666666666666,
              "#ed7953"
             ],
             [
              0.7777777777777778,
              "#fb9f3a"
             ],
             [
              0.8888888888888888,
              "#fdca26"
             ],
             [
              1,
              "#f0f921"
             ]
            ],
            "type": "histogram2dcontour"
           }
          ],
          "mesh3d": [
           {
            "colorbar": {
             "outlinewidth": 0,
             "ticks": ""
            },
            "type": "mesh3d"
           }
          ],
          "parcoords": [
           {
            "line": {
             "colorbar": {
              "outlinewidth": 0,
              "ticks": ""
             }
            },
            "type": "parcoords"
           }
          ],
          "pie": [
           {
            "automargin": true,
            "type": "pie"
           }
          ],
          "scatter": [
           {
            "fillpattern": {
             "fillmode": "overlay",
             "size": 10,
             "solidity": 0.2
            },
            "type": "scatter"
           }
          ],
          "scatter3d": [
           {
            "line": {
             "colorbar": {
              "outlinewidth": 0,
              "ticks": ""
             }
            },
            "marker": {
             "colorbar": {
              "outlinewidth": 0,
              "ticks": ""
             }
            },
            "type": "scatter3d"
           }
          ],
          "scattercarpet": [
           {
            "marker": {
             "colorbar": {
              "outlinewidth": 0,
              "ticks": ""
             }
            },
            "type": "scattercarpet"
           }
          ],
          "scattergeo": [
           {
            "marker": {
             "colorbar": {
              "outlinewidth": 0,
              "ticks": ""
             }
            },
            "type": "scattergeo"
           }
          ],
          "scattergl": [
           {
            "marker": {
             "colorbar": {
              "outlinewidth": 0,
              "ticks": ""
             }
            },
            "type": "scattergl"
           }
          ],
          "scattermapbox": [
           {
            "marker": {
             "colorbar": {
              "outlinewidth": 0,
              "ticks": ""
             }
            },
            "type": "scattermapbox"
           }
          ],
          "scatterpolar": [
           {
            "marker": {
             "colorbar": {
              "outlinewidth": 0,
              "ticks": ""
             }
            },
            "type": "scatterpolar"
           }
          ],
          "scatterpolargl": [
           {
            "marker": {
             "colorbar": {
              "outlinewidth": 0,
              "ticks": ""
             }
            },
            "type": "scatterpolargl"
           }
          ],
          "scatterternary": [
           {
            "marker": {
             "colorbar": {
              "outlinewidth": 0,
              "ticks": ""
             }
            },
            "type": "scatterternary"
           }
          ],
          "surface": [
           {
            "colorbar": {
             "outlinewidth": 0,
             "ticks": ""
            },
            "colorscale": [
             [
              0,
              "#0d0887"
             ],
             [
              0.1111111111111111,
              "#46039f"
             ],
             [
              0.2222222222222222,
              "#7201a8"
             ],
             [
              0.3333333333333333,
              "#9c179e"
             ],
             [
              0.4444444444444444,
              "#bd3786"
             ],
             [
              0.5555555555555556,
              "#d8576b"
             ],
             [
              0.6666666666666666,
              "#ed7953"
             ],
             [
              0.7777777777777778,
              "#fb9f3a"
             ],
             [
              0.8888888888888888,
              "#fdca26"
             ],
             [
              1,
              "#f0f921"
             ]
            ],
            "type": "surface"
           }
          ],
          "table": [
           {
            "cells": {
             "fill": {
              "color": "#EBF0F8"
             },
             "line": {
              "color": "white"
             }
            },
            "header": {
             "fill": {
              "color": "#C8D4E3"
             },
             "line": {
              "color": "white"
             }
            },
            "type": "table"
           }
          ]
         },
         "layout": {
          "annotationdefaults": {
           "arrowcolor": "#2a3f5f",
           "arrowhead": 0,
           "arrowwidth": 1
          },
          "autotypenumbers": "strict",
          "coloraxis": {
           "colorbar": {
            "outlinewidth": 0,
            "ticks": ""
           }
          },
          "colorscale": {
           "diverging": [
            [
             0,
             "#8e0152"
            ],
            [
             0.1,
             "#c51b7d"
            ],
            [
             0.2,
             "#de77ae"
            ],
            [
             0.3,
             "#f1b6da"
            ],
            [
             0.4,
             "#fde0ef"
            ],
            [
             0.5,
             "#f7f7f7"
            ],
            [
             0.6,
             "#e6f5d0"
            ],
            [
             0.7,
             "#b8e186"
            ],
            [
             0.8,
             "#7fbc41"
            ],
            [
             0.9,
             "#4d9221"
            ],
            [
             1,
             "#276419"
            ]
           ],
           "sequential": [
            [
             0,
             "#0d0887"
            ],
            [
             0.1111111111111111,
             "#46039f"
            ],
            [
             0.2222222222222222,
             "#7201a8"
            ],
            [
             0.3333333333333333,
             "#9c179e"
            ],
            [
             0.4444444444444444,
             "#bd3786"
            ],
            [
             0.5555555555555556,
             "#d8576b"
            ],
            [
             0.6666666666666666,
             "#ed7953"
            ],
            [
             0.7777777777777778,
             "#fb9f3a"
            ],
            [
             0.8888888888888888,
             "#fdca26"
            ],
            [
             1,
             "#f0f921"
            ]
           ],
           "sequentialminus": [
            [
             0,
             "#0d0887"
            ],
            [
             0.1111111111111111,
             "#46039f"
            ],
            [
             0.2222222222222222,
             "#7201a8"
            ],
            [
             0.3333333333333333,
             "#9c179e"
            ],
            [
             0.4444444444444444,
             "#bd3786"
            ],
            [
             0.5555555555555556,
             "#d8576b"
            ],
            [
             0.6666666666666666,
             "#ed7953"
            ],
            [
             0.7777777777777778,
             "#fb9f3a"
            ],
            [
             0.8888888888888888,
             "#fdca26"
            ],
            [
             1,
             "#f0f921"
            ]
           ]
          },
          "colorway": [
           "#636efa",
           "#EF553B",
           "#00cc96",
           "#ab63fa",
           "#FFA15A",
           "#19d3f3",
           "#FF6692",
           "#B6E880",
           "#FF97FF",
           "#FECB52"
          ],
          "font": {
           "color": "#2a3f5f"
          },
          "geo": {
           "bgcolor": "white",
           "lakecolor": "white",
           "landcolor": "#E5ECF6",
           "showlakes": true,
           "showland": true,
           "subunitcolor": "white"
          },
          "hoverlabel": {
           "align": "left"
          },
          "hovermode": "closest",
          "mapbox": {
           "style": "light"
          },
          "paper_bgcolor": "white",
          "plot_bgcolor": "#E5ECF6",
          "polar": {
           "angularaxis": {
            "gridcolor": "white",
            "linecolor": "white",
            "ticks": ""
           },
           "bgcolor": "#E5ECF6",
           "radialaxis": {
            "gridcolor": "white",
            "linecolor": "white",
            "ticks": ""
           }
          },
          "scene": {
           "xaxis": {
            "backgroundcolor": "#E5ECF6",
            "gridcolor": "white",
            "gridwidth": 2,
            "linecolor": "white",
            "showbackground": true,
            "ticks": "",
            "zerolinecolor": "white"
           },
           "yaxis": {
            "backgroundcolor": "#E5ECF6",
            "gridcolor": "white",
            "gridwidth": 2,
            "linecolor": "white",
            "showbackground": true,
            "ticks": "",
            "zerolinecolor": "white"
           },
           "zaxis": {
            "backgroundcolor": "#E5ECF6",
            "gridcolor": "white",
            "gridwidth": 2,
            "linecolor": "white",
            "showbackground": true,
            "ticks": "",
            "zerolinecolor": "white"
           }
          },
          "shapedefaults": {
           "line": {
            "color": "#2a3f5f"
           }
          },
          "ternary": {
           "aaxis": {
            "gridcolor": "white",
            "linecolor": "white",
            "ticks": ""
           },
           "baxis": {
            "gridcolor": "white",
            "linecolor": "white",
            "ticks": ""
           },
           "bgcolor": "#E5ECF6",
           "caxis": {
            "gridcolor": "white",
            "linecolor": "white",
            "ticks": ""
           }
          },
          "title": {
           "x": 0.05
          },
          "xaxis": {
           "automargin": true,
           "gridcolor": "white",
           "linecolor": "white",
           "ticks": "",
           "title": {
            "standoff": 15
           },
           "zerolinecolor": "white",
           "zerolinewidth": 2
          },
          "yaxis": {
           "automargin": true,
           "gridcolor": "white",
           "linecolor": "white",
           "ticks": "",
           "title": {
            "standoff": 15
           },
           "zerolinecolor": "white",
           "zerolinewidth": 2
          }
         }
        },
        "xaxis": {
         "anchor": "y",
         "domain": [
          0,
          1
         ],
         "title": {
          "text": "startYear"
         }
        },
        "yaxis": {
         "anchor": "x",
         "domain": [
          0,
          1
         ],
         "title": {
          "text": "numVotes_moyenne"
         }
        }
       }
      }
     },
     "metadata": {},
     "output_type": "display_data"
    }
   ],
   "source": [
    "# rating vs years\n",
    "df_nbr_votes_by_year = df[[\"startYear\", \"numVotes\"]]\n",
    "df_nbr_votes_by_year = df_nbr_votes_by_year.groupby(\"startYear\", as_index=False)[[\"numVotes\"]].mean()\n",
    "df_nbr_votes_by_year[\"numVotes_moyenne\"] = df_nbr_votes_by_year[\"numVotes\"].apply(lambda x : round(x, 2))\n",
    "fig = px.bar(df_nbr_votes_by_year, x=\"startYear\", y=\"numVotes_moyenne\", color_continuous_scale='Blues', color=\"numVotes_moyenne\")\n",
    "fig.show()"
   ]
  },
  {
   "cell_type": "code",
   "execution_count": 18,
   "metadata": {},
   "outputs": [
    {
     "data": {
      "text/html": [
       "<table border=\"1\" class=\"dataframe\">\n",
       "  <thead>\n",
       "    <tr style=\"text-align: right;\">\n",
       "      <th>Titre</th>\n",
       "      <th>Votes</th>\n",
       "      <th>Note moyenne</th>\n",
       "    </tr>\n",
       "  </thead>\n",
       "  <tbody>\n",
       "    <tr>\n",
       "      <td>Oppenheimer</td>\n",
       "      <td>818960.0</td>\n",
       "      <td>8.3</td>\n",
       "    </tr>\n",
       "    <tr>\n",
       "      <td>Barbie</td>\n",
       "      <td>576706.0</td>\n",
       "      <td>6.8</td>\n",
       "    </tr>\n",
       "    <tr>\n",
       "      <td>Spider-Man: Across the Spider-Verse</td>\n",
       "      <td>418249.0</td>\n",
       "      <td>8.6</td>\n",
       "    </tr>\n",
       "    <tr>\n",
       "      <td>Guardians of the Galaxy Vol. 3</td>\n",
       "      <td>406707.0</td>\n",
       "      <td>7.9</td>\n",
       "    </tr>\n",
       "    <tr>\n",
       "      <td>John Wick: Chapter 4</td>\n",
       "      <td>357634.0</td>\n",
       "      <td>7.6</td>\n",
       "    </tr>\n",
       "    <tr>\n",
       "      <td>Poor Things</td>\n",
       "      <td>313622.0</td>\n",
       "      <td>7.8</td>\n",
       "    </tr>\n",
       "    <tr>\n",
       "      <td>Mission: Impossible - Dead Reckoning Part One</td>\n",
       "      <td>269579.0</td>\n",
       "      <td>7.7</td>\n",
       "    </tr>\n",
       "    <tr>\n",
       "      <td>Killers of the Flower Moon</td>\n",
       "      <td>265478.0</td>\n",
       "      <td>7.6</td>\n",
       "    </tr>\n",
       "    <tr>\n",
       "      <td>The Super Mario Bros. Movie</td>\n",
       "      <td>253681.0</td>\n",
       "      <td>7.0</td>\n",
       "    </tr>\n",
       "    <tr>\n",
       "      <td>Dungeons &amp; Dragons: Honor Among Thieves</td>\n",
       "      <td>246189.0</td>\n",
       "      <td>7.2</td>\n",
       "    </tr>\n",
       "  </tbody>\n",
       "</table>"
      ],
      "text/plain": [
       "<IPython.core.display.HTML object>"
      ]
     },
     "execution_count": 18,
     "metadata": {},
     "output_type": "execute_result"
    }
   ],
   "source": [
    "# 10 populare movies\n",
    "from IPython.display import HTML\n",
    "\n",
    "df_data_2023 = df[df[\"startYear\"] == \"2023\"]\n",
    "df_rating = df_data_2023[[\"title\", \"numVotes\", \"averageRating\"]]\n",
    "sorted_df = df_rating.sort_values(by=[\"numVotes\"], ascending=False)\n",
    "resultat = sorted_df[0:10]\n",
    "resultat = resultat.rename(columns={\"title\": \"Titre\", \"numVotes\": \"Votes\", \"averageRating\": \"Note moyenne\"})\n",
    "\n",
    "HTML(resultat.to_html(index=False))\n"
   ]
  }
 ],
 "metadata": {
  "kernelspec": {
   "display_name": ".venv",
   "language": "python",
   "name": "python3"
  },
  "language_info": {
   "codemirror_mode": {
    "name": "ipython",
    "version": 3
   },
   "file_extension": ".py",
   "mimetype": "text/x-python",
   "name": "python",
   "nbconvert_exporter": "python",
   "pygments_lexer": "ipython3",
   "version": "3.12.5"
  }
 },
 "nbformat": 4,
 "nbformat_minor": 2
}
